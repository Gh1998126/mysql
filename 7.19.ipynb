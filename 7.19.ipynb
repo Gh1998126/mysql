{
 "cells": [
  {
   "cell_type": "markdown",
   "metadata": {},
   "source": [
    "# 循环\n",
    "- 循环是一种控制语句块重复执行的结构\n",
    "- while  适用于广度遍历\n",
    "- for    开发中经常使用"
   ]
  },
  {
   "cell_type": "markdown",
   "metadata": {},
   "source": [
    "## while 循环\n",
    "- 当一个条件保持真的时候while循环重复执行语句\n",
    "- while 循环一定要有结束条件，否则很容易进入死循环\n",
    "- while 循环的语法是：\n",
    "\n",
    "    while loop-contunuation-conndition:\n",
    "\n",
    "        Statement"
   ]
  },
  {
   "cell_type": "markdown",
   "metadata": {},
   "source": [
    "## 示例：\n",
    "sum = 0\n",
    "\n",
    "i = 1\n",
    "\n",
    "while i <10:\n",
    "\n",
    "    sum = sum + i\n",
    "    i = i + 1"
   ]
  },
  {
   "cell_type": "code",
   "execution_count": 7,
   "metadata": {},
   "outputs": [
    {
     "name": "stdout",
     "output_type": "stream",
     "text": [
      "今天天气好\n",
      "今天天气好\n",
      "今天天气好\n",
      "今天天气好\n",
      "今天天气好\n",
      "今天天气好\n",
      "今天天气好\n",
      "今天天气好\n",
      "今天天气好\n",
      "今天天气好\n"
     ]
    }
   ],
   "source": [
    "i = 0\n",
    "while i <10:\n",
    "    print('今天天气好')\n",
    "    i +=1"
   ]
  },
  {
   "cell_type": "code",
   "execution_count": 3,
   "metadata": {},
   "outputs": [
    {
     "ename": "KeyboardInterrupt",
     "evalue": "",
     "output_type": "error",
     "traceback": [
      "\u001b[1;31m---------------------------------------------------------------------------\u001b[0m",
      "\u001b[1;31mKeyboardInterrupt\u001b[0m                         Traceback (most recent call last)",
      "\u001b[1;32m<ipython-input-3-647718565c63>\u001b[0m in \u001b[0;36m<module>\u001b[1;34m()\u001b[0m\n\u001b[0;32m      2\u001b[0m \u001b[0mi\u001b[0m \u001b[1;33m=\u001b[0m \u001b[1;36m0\u001b[0m\u001b[1;33m\u001b[0m\u001b[0m\n\u001b[0;32m      3\u001b[0m \u001b[1;32mwhile\u001b[0m \u001b[1;36m1\u001b[0m\u001b[1;33m:\u001b[0m\u001b[1;33m\u001b[0m\u001b[0m\n\u001b[1;32m----> 4\u001b[1;33m     \u001b[0mos\u001b[0m\u001b[1;33m.\u001b[0m\u001b[0msystem\u001b[0m\u001b[1;33m(\u001b[0m\u001b[1;34m'calc'\u001b[0m\u001b[1;33m)\u001b[0m\u001b[1;33m\u001b[0m\u001b[0m\n\u001b[0m",
      "\u001b[1;31mKeyboardInterrupt\u001b[0m: "
     ]
    }
   ],
   "source": [
    "import os\n",
    "i = 0\n",
    "while 1:\n",
    "    os.system('calc')"
   ]
  },
  {
   "cell_type": "markdown",
   "metadata": {},
   "source": [
    "## 错误示例：\n",
    "sum = 0\n",
    "\n",
    "i = 1\n",
    "\n",
    "while i <10:\n",
    "\n",
    "    sum = sum + i\n",
    "\n",
    "i = i + 1\n",
    "- 一旦进入死循环可按 Ctrl + c 停止"
   ]
  },
  {
   "cell_type": "markdown",
   "metadata": {},
   "source": [
    "## EP：\n",
    "![](../Photo/143.png)\n",
    "![](../Photo/144.png)"
   ]
  },
  {
   "cell_type": "markdown",
   "metadata": {},
   "source": [
    "# 验证码\n",
    "- 随机产生四个字母的验证码，如果正确，输出验证码正确。如果错误，产生新的验证码，用户重新输入。\n",
    "- 验证码只能输入三次，如果三次都错，返回“别爬了，我们小网站没什么好爬的”\n",
    "- 密码登录，如果三次错误，账号被锁定\n"
   ]
  },
  {
   "cell_type": "code",
   "execution_count": null,
   "metadata": {},
   "outputs": [],
   "source": [
    "import string\n",
    "number_1 = input('请输入验证码:')\n",
    "number = random.random(0,1000)\n",
    "number = chr(ord())\n",
    "if number == number_1:\n",
    "    print('正确')\n",
    "if number != number_1:\n",
    "i = 0\n",
    "while i<3:\n",
    "    number_3 = input('重新请输入验证码:')      "
   ]
  },
  {
   "cell_type": "code",
   "execution_count": 1,
   "metadata": {},
   "outputs": [
    {
     "name": "stdout",
     "output_type": "stream",
     "text": [
      "验证码为: 5967\n",
      "请输入验证码:5555\n"
     ]
    },
    {
     "ename": "SyntaxError",
     "evalue": "'break' outside loop (<ipython-input-1-6ad143922045>, line 7)",
     "output_type": "error",
     "traceback": [
      "\u001b[1;36m  File \u001b[1;32m\"<ipython-input-1-6ad143922045>\"\u001b[1;36m, line \u001b[1;32m7\u001b[0m\n\u001b[1;33m    break\u001b[0m\n\u001b[1;37m    ^\u001b[0m\n\u001b[1;31mSyntaxError\u001b[0m\u001b[1;31m:\u001b[0m 'break' outside loop\n"
     ]
    }
   ],
   "source": [
    "import random\n",
    "number = random.randint(1000,9999)\n",
    "print('验证码为:',number)\n",
    "me = eval(input('请输入验证码:'))\n",
    "if number == me :\n",
    "    print('正确')\n",
    "    break\n",
    "else:\n",
    "    print('错误')"
   ]
  },
  {
   "cell_type": "code",
   "execution_count": 9,
   "metadata": {},
   "outputs": [
    {
     "name": "stdout",
     "output_type": "stream",
     "text": [
      "tryo\n",
      "验证码是: tryo\n",
      "请输入验证码:tryo\n",
      "正确\n"
     ]
    }
   ],
   "source": [
    "while True:\n",
    "    import random\n",
    "    a = chr(random.randint(97,122))\n",
    "    b = chr(random.randint(97,122))\n",
    "    c = chr(random.randint(97,122))\n",
    "    d = chr(random.randint(97,122))\n",
    "    N = a+b+c+d\n",
    "    print(N)\n",
    "    print('验证码是:',N)\n",
    "    me = input('请输入验证码:')\n",
    "    if me == N :\n",
    "        print('正确')\n",
    "        break\n",
    "    else:\n",
    "        print('错误') "
   ]
  },
  {
   "cell_type": "code",
   "execution_count": null,
   "metadata": {},
   "outputs": [
    {
     "name": "stdout",
     "output_type": "stream",
     "text": [
      "SdSu\n",
      "验证码是: SdSu\n",
      "请输入验证码:shdh\n",
      "错误\n",
      "RqRx\n",
      "验证码是: RqRx\n",
      "请输入验证码:rqrx\n",
      "错误\n",
      "ZiVe\n",
      "验证码是: ZiVe\n"
     ]
    }
   ],
   "source": [
    "while True:\n",
    "    import random\n",
    "    a = chr(random.randint(65,90))\n",
    "    b = chr(random.randint(97,122))\n",
    "    c = chr(random.randint(65,90))\n",
    "    d = chr(random.randint(97,122))\n",
    "    N = a+b+c+d\n",
    "    print(N)\n",
    "    print('验证码是:',N)\n",
    "    me = input('请输入验证码:')\n",
    "    if me == N :\n",
    "        print('正确')\n",
    "        break\n",
    "    else:\n",
    "        print('错误') "
   ]
  },
  {
   "cell_type": "code",
   "execution_count": 6,
   "metadata": {},
   "outputs": [
    {
     "name": "stdout",
     "output_type": "stream",
     "text": [
      "验证码是: DnYc\n",
      "请输入验证码:dnyc\n",
      "正确\n"
     ]
    }
   ],
   "source": [
    "while True:\n",
    "    import random\n",
    "    a = chr(random.randint(65,90))\n",
    "    b = chr(random.randint(97,122))\n",
    "    c = chr(random.randint(65,90))\n",
    "    d = chr(random.randint(97,122))\n",
    "    shuffle_n = [a,b,c,d]\n",
    "    random.shuffle(shuffle_n)\n",
    "    N = \"\".join(shuffle_n)\n",
    "    print('验证码是:',N)\n",
    "    me = input('请输入验证码:')\n",
    "    if me.lower() == N.lower():\n",
    "        print('正确')\n",
    "        break\n",
    "    else:\n",
    "        print('错误')"
   ]
  },
  {
   "cell_type": "code",
   "execution_count": null,
   "metadata": {},
   "outputs": [
    {
     "name": "stdout",
     "output_type": "stream",
     "text": [
      "验证码是: E\n",
      "请输入验证码:e\n",
      "正确\n",
      "验证码是: S\n",
      "请输入验证码:s\n",
      "正确\n",
      "验证码是: V\n",
      "请输入验证码:v\n",
      "正确\n",
      "验证码是: E\n",
      "请输入验证码:e\n",
      "正确\n",
      "验证码是: f\n",
      "请输入验证码:f\n",
      "正确\n",
      "验证码是: A\n",
      "请输入验证码:a\n",
      "正确\n",
      "验证码是: P\n"
     ]
    }
   ],
   "source": [
    "while True:\n",
    "    import random\n",
    "    choose = random.randint(0,1)\n",
    "    list_ = [[65,90],[97,122]]\n",
    "    range_= list_[choose]\n",
    "    N =\"\"\n",
    "    for i in range(4):\n",
    "        N += chr(random.randint(range_[0],range_[1]))\n",
    "        print('验证码是:',N)\n",
    "        me = input('请输入验证码:')\n",
    "        if me.lower() == N.lower():\n",
    "            print('正确')\n",
    "            break\n",
    "        else:\n",
    "            print('错误')"
   ]
  },
  {
   "cell_type": "code",
   "execution_count": 1,
   "metadata": {},
   "outputs": [
    {
     "name": "stdout",
     "output_type": "stream",
     "text": [
      "[106, 132, 123, 63, 0, 129, 75, 71, 137, 144, 57, 99, 87, 14, 91, 105, 70, 38, 20, 174, 107, 11, 114, 143, 75, 114, 70, 130, 113, 83, 81, 135, 152, 47, 76, 72, 125, 56, 124, 42, 150, 129, 77, 95, 109, 57, 115, 81, 151, 86, 94, 100, 111, 72, 109, 64, 16, 76, 71, 83, 78, 120, 137, 53, 123, 149, 193, 141, 107, 133, 134, 124, 138, 64, 90, 191, 69, 128, 139, 203, 147, 86, 83, 71, 126, 72, 139, 91, 113, 138, 84, 136, 84, 96, 108, 108, 61, 96, 119, 77]\n"
     ]
    }
   ],
   "source": [
    "import random\n",
    "money=[100]*100\n",
    "i=0 \n",
    "while 0 not in money:\n",
    "    number=random.randint(0,99)\n",
    "    money[i]-=1\n",
    "    money[number]+=1\n",
    "    i+=1\n",
    "    i=i%100\n",
    "print(money)"
   ]
  },
  {
   "cell_type": "markdown",
   "metadata": {},
   "source": [
    "## 尝试死循环"
   ]
  },
  {
   "cell_type": "markdown",
   "metadata": {},
   "source": [
    "## 实例研究：猜数字\n",
    "- 你将要编写一个能够随机生成一个0到10之间的且包括两者的数字程序，这个程序\n",
    "- 提示用户连续地输入数字直到正确，且提示用户输入的数字是过高还是过低"
   ]
  },
  {
   "cell_type": "markdown",
   "metadata": {},
   "source": [
    "## 使用哨兵值来控制循环\n",
    "- 哨兵值来表明输入的结束\n",
    "- ![](../Photo/54.png)"
   ]
  },
  {
   "cell_type": "markdown",
   "metadata": {},
   "source": [
    "## 警告\n",
    "![](../Photo/55.png)"
   ]
  },
  {
   "cell_type": "markdown",
   "metadata": {},
   "source": [
    "## for 循环\n",
    "- Python的for 循环通过一个序列中的每个值来进行迭代\n",
    "- range(a,b,k)， a，b，k 必须为整数\n",
    "- a: start\n",
    "- b: end\n",
    "- k: step\n",
    "- 注意for 是循环一切可迭代对象，而不是只能使用range"
   ]
  },
  {
   "cell_type": "markdown",
   "metadata": {},
   "source": [
    "# 在Python里面一切皆对象"
   ]
  },
  {
   "cell_type": "markdown",
   "metadata": {},
   "source": [
    "## EP:\n",
    "- ![](../Photo/145.png)"
   ]
  },
  {
   "cell_type": "markdown",
   "metadata": {},
   "source": [
    "## 嵌套循环\n",
    "- 一个循环可以嵌套另一个循环\n",
    "- 每次循环外层时，内层循环都会被刷新重新完成循环\n",
    "- 也就是说，大循环执行一次，小循环会全部执行一次\n",
    "- 注意：\n",
    "> - 多层循环非常耗时\n",
    "  - 最多使用3层循环"
   ]
  },
  {
   "cell_type": "markdown",
   "metadata": {},
   "source": [
    "## EP：\n",
    "- 使用多层循环完成9X9乘法表\n",
    "- 显示50以内所有的素数"
   ]
  },
  {
   "cell_type": "code",
   "execution_count": 12,
   "metadata": {},
   "outputs": [
    {
     "name": "stdout",
     "output_type": "stream",
     "text": [
      "1*1=1 \n",
      "2*1=2 2*2=4 \n",
      "3*1=3 3*2=6 3*3=9 \n",
      "4*1=4 4*2=8 4*3=12 4*4=16 \n",
      "5*1=5 5*2=10 5*3=15 5*4=20 5*5=25 \n",
      "6*1=6 6*2=12 6*3=18 6*4=24 6*5=30 6*6=36 \n",
      "7*1=7 7*2=14 7*3=21 7*4=28 7*5=35 7*6=42 7*7=49 \n",
      "8*1=8 8*2=16 8*3=24 8*4=32 8*5=40 8*6=48 8*7=56 8*8=64 \n",
      "9*1=9 9*2=18 9*3=27 9*4=36 9*5=45 9*6=54 9*7=63 9*8=72 9*9=81 \n"
     ]
    }
   ],
   "source": [
    "for i in range(1,10):\n",
    "    for j in range(1,i+1):\n",
    "        print('%d*%d=%d' % (i,j,i*j),end = \" \")\n",
    "    print('')"
   ]
  },
  {
   "cell_type": "code",
   "execution_count": 32,
   "metadata": {},
   "outputs": [
    {
     "name": "stdout",
     "output_type": "stream",
     "text": [
      "9*1= 9\t 9*2=18\t 9*3=27\t 9*4=36\t 9*5=45\t 9*6=54\t 9*7=63\t 9*8=72\t 9*9=81\t \n",
      "8*1= 8\t 8*2=16\t 8*3=24\t 8*4=32\t 8*5=40\t 8*6=48\t 8*7=56\t 8*8=64\t \n",
      "7*1= 7\t 7*2=14\t 7*3=21\t 7*4=28\t 7*5=35\t 7*6=42\t 7*7=49\t \n",
      "6*1= 6\t 6*2=12\t 6*3=18\t 6*4=24\t 6*5=30\t 6*6=36\t \n",
      "5*1= 5\t 5*2=10\t 5*3=15\t 5*4=20\t 5*5=25\t \n",
      "4*1= 4\t 4*2= 8\t 4*3=12\t 4*4=16\t \n",
      "3*1= 3\t 3*2= 6\t 3*3= 9\t \n",
      "2*1= 2\t 2*2= 4\t \n",
      "1*1= 1\t \n"
     ]
    }
   ],
   "source": [
    "i = 9\n",
    "while i >= 1:\n",
    "    j =1\n",
    "    while j <=i:\n",
    "        print('%d*%d=%2d\\t' % (i,j,i*j),end = \" \")\n",
    "        j += 1\n",
    "    i-=1\n",
    "    print('')        "
   ]
  },
  {
   "cell_type": "code",
   "execution_count": 17,
   "metadata": {},
   "outputs": [
    {
     "name": "stdout",
     "output_type": "stream",
     "text": [
      "2\n",
      "3\n",
      "5\n",
      "7\n",
      "11\n",
      "13\n",
      "17\n",
      "19\n",
      "23\n",
      "29\n",
      "31\n",
      "37\n",
      "41\n",
      "43\n",
      "47\n"
     ]
    }
   ],
   "source": [
    "for i in range(1,50):\n",
    "    a=1\n",
    "    for j in range(int(i/2)):\n",
    "        if (i+1)%(2+j)==0:\n",
    "            a=0\n",
    "            break\n",
    "    if a==1:\n",
    "        print(i+1)"
   ]
  },
  {
   "cell_type": "markdown",
   "metadata": {},
   "source": [
    "## 关键字 break 和 continue\n",
    "- break 跳出循环，终止循环\n",
    "- continue 跳出此次循环，继续执行"
   ]
  },
  {
   "cell_type": "markdown",
   "metadata": {},
   "source": [
    "## 注意\n",
    "![](../Photo/56.png)\n",
    "![](../Photo/57.png)"
   ]
  },
  {
   "cell_type": "markdown",
   "metadata": {},
   "source": [
    "# Homework\n",
    "- 1 \n",
    "![](../Photo/58.png)"
   ]
  },
  {
   "cell_type": "markdown",
   "metadata": {},
   "source": [
    "- 2\n",
    "![](../Photo/59.png)"
   ]
  },
  {
   "cell_type": "markdown",
   "metadata": {},
   "source": [
    "- 3\n",
    "![](../Photo/58.png)"
   ]
  },
  {
   "cell_type": "markdown",
   "metadata": {},
   "source": [
    "- 4\n",
    "![](../Photo/60.png)"
   ]
  },
  {
   "cell_type": "markdown",
   "metadata": {},
   "source": [
    "- 5\n",
    "![](../Photo/61.png)"
   ]
  },
  {
   "cell_type": "markdown",
   "metadata": {},
   "source": [
    "- 6\n",
    "![](../Photo/62.png)"
   ]
  },
  {
   "cell_type": "markdown",
   "metadata": {},
   "source": [
    "- 7\n",
    "![](../Photo/63.png)"
   ]
  },
  {
   "cell_type": "markdown",
   "metadata": {},
   "source": [
    "- 8\n",
    "![](../Photo/64.png)"
   ]
  },
  {
   "cell_type": "markdown",
   "metadata": {},
   "source": [
    "- 9\n",
    "![](../Photo/65.png)"
   ]
  },
  {
   "cell_type": "markdown",
   "metadata": {},
   "source": [
    "- 10 \n",
    "![](../Photo/66.png)"
   ]
  },
  {
   "cell_type": "markdown",
   "metadata": {},
   "source": [
    "- 11\n",
    "![](../Photo/67.png)"
   ]
  },
  {
   "cell_type": "markdown",
   "metadata": {},
   "source": [
    "- 12\n",
    "![](../Photo/68.png)"
   ]
  },
  {
   "cell_type": "code",
   "execution_count": null,
   "metadata": {},
   "outputs": [],
   "source": []
  }
 ],
 "metadata": {
  "kernelspec": {
   "display_name": "Python 3",
   "language": "python",
   "name": "python3"
  },
  "language_info": {
   "codemirror_mode": {
    "name": "ipython",
    "version": 3
   },
   "file_extension": ".py",
   "mimetype": "text/x-python",
   "name": "python",
   "nbconvert_exporter": "python",
   "pygments_lexer": "ipython3",
   "version": "3.6.4"
  }
 },
 "nbformat": 4,
 "nbformat_minor": 2
}
