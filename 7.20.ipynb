{
 "cells": [
  {
   "cell_type": "markdown",
   "metadata": {},
   "source": [
    "# 函数\n",
    "\n",
    "- 函数可以用来定义可重复代码，组织和简化\n",
    "- 一般来说一个函数在实际开发中为一个小功能\n",
    "- 一个类为一个大功能\n",
    "- 同样函数的长度不要超过一屏"
   ]
  },
  {
   "cell_type": "markdown",
   "metadata": {},
   "source": [
    "## 定义一个函数\n",
    "\n",
    "def function_name(list of parameters):\n",
    "    \n",
    "    do something\n",
    "![](../Photo/69.png)\n",
    "- 以前使用的random 或者range 或者print.. 其实都是函数或者类"
   ]
  },
  {
   "cell_type": "code",
   "execution_count": 19,
   "metadata": {},
   "outputs": [],
   "source": [
    "def max_(num1,num2):\n",
    "    if num1 > num2:\n",
    "        return num1\n",
    "    else:\n",
    "        return num2"
   ]
  },
  {
   "cell_type": "code",
   "execution_count": 20,
   "metadata": {},
   "outputs": [
    {
     "data": {
      "text/plain": [
       "4"
      ]
     },
     "execution_count": 20,
     "metadata": {},
     "output_type": "execute_result"
    }
   ],
   "source": [
    "max_(2,4)"
   ]
  },
  {
   "cell_type": "code",
   "execution_count": 21,
   "metadata": {},
   "outputs": [],
   "source": [
    "def max_(num1,num2,num3):\n",
    "    if num1 > num2 and num1>num3:\n",
    "        return num1\n",
    "    elif num2 > num1 and num2>num3:\n",
    "        return num2\n",
    "    elif num3 > num1 and num3>num2:\n",
    "        return num3"
   ]
  },
  {
   "cell_type": "code",
   "execution_count": 22,
   "metadata": {},
   "outputs": [
    {
     "data": {
      "text/plain": [
       "3"
      ]
     },
     "execution_count": 22,
     "metadata": {},
     "output_type": "execute_result"
    }
   ],
   "source": [
    "max_(1,2,3)"
   ]
  },
  {
   "cell_type": "code",
   "execution_count": 33,
   "metadata": {},
   "outputs": [],
   "source": [
    "def good(name):\n",
    "    print('%s is a beautiful gril' %name)"
   ]
  },
  {
   "cell_type": "code",
   "execution_count": 35,
   "metadata": {},
   "outputs": [
    {
     "name": "stdout",
     "output_type": "stream",
     "text": [
      "haha is a beautiful gril\n"
     ]
    }
   ],
   "source": [
    "good('haha')"
   ]
  },
  {
   "cell_type": "code",
   "execution_count": 38,
   "metadata": {},
   "outputs": [],
   "source": [
    "def good(name2,name='lh',name3='jj'):\n",
    "    print('%s is a beautiful gril' %name)"
   ]
  },
  {
   "cell_type": "code",
   "execution_count": 46,
   "metadata": {},
   "outputs": [
    {
     "name": "stdout",
     "output_type": "stream",
     "text": [
      "hh2 is a beautiful gril\n"
     ]
    }
   ],
   "source": [
    "good('hh','hh2','hh3')"
   ]
  },
  {
   "cell_type": "code",
   "execution_count": null,
   "metadata": {},
   "outputs": [],
   "source": [
    "函数的参数如果有默认值的情况可以不给予参数值，那么就会走该参数的默认值，否则走你给予的参数值"
   ]
  },
  {
   "cell_type": "markdown",
   "metadata": {},
   "source": [
    "## 调用一个函数\n",
    "- functionName()\n",
    "- \"()\" 就代表调用"
   ]
  },
  {
   "cell_type": "code",
   "execution_count": 52,
   "metadata": {},
   "outputs": [],
   "source": [
    "#奇偶数\n",
    "def i( num):\n",
    "    if num%2==0:\n",
    "        print('偶数')\n",
    "    else:\n",
    "        print('奇数')    "
   ]
  },
  {
   "cell_type": "code",
   "execution_count": 54,
   "metadata": {},
   "outputs": [
    {
     "name": "stdout",
     "output_type": "stream",
     "text": [
      "偶数\n"
     ]
    }
   ],
   "source": [
    "i(2)"
   ]
  },
  {
   "cell_type": "code",
   "execution_count": 16,
   "metadata": {},
   "outputs": [],
   "source": [
    "#猜数字\n",
    "import random \n",
    "def i(num):\n",
    "    num=random.randint(1,10)\n",
    "    print(num)\n",
    "    number=input('请输入:')\n",
    "    if number == num:\n",
    "        print('true')\n",
    "    else :\n",
    "        print('correct')"
   ]
  },
  {
   "cell_type": "code",
   "execution_count": 15,
   "metadata": {},
   "outputs": [
    {
     "name": "stdout",
     "output_type": "stream",
     "text": [
      "2\n",
      "请输入:2\n",
      "cuo\n"
     ]
    }
   ],
   "source": [
    "i(2) "
   ]
  },
  {
   "cell_type": "markdown",
   "metadata": {},
   "source": [
    "![](../Photo/70.png)"
   ]
  },
  {
   "cell_type": "markdown",
   "metadata": {},
   "source": [
    "## 带返回值和不带返回值的函数\n",
    "- return 返回的内容\n",
    "- return 返回多个值\n",
    "- 一般情况下，在多个函数协同完成一个功能的时候，那么将会有返回值"
   ]
  },
  {
   "cell_type": "markdown",
   "metadata": {},
   "source": [
    "![](../Photo/71.png)\n",
    "\n",
    "- 当然也可以自定义返回None"
   ]
  },
  {
   "cell_type": "markdown",
   "metadata": {},
   "source": [
    "## EP：\n",
    "![](../Photo/72.png)"
   ]
  },
  {
   "cell_type": "code",
   "execution_count": null,
   "metadata": {},
   "outputs": [],
   "source": [
    "python中的所有值都有返回值（return，none）\n",
    "如果你没有设置return将返回值none\n",
    "如果你设置return将返回值"
   ]
  },
  {
   "cell_type": "code",
   "execution_count": 7,
   "metadata": {},
   "outputs": [],
   "source": [
    "def jj():\n",
    "    print('hello')"
   ]
  },
  {
   "cell_type": "code",
   "execution_count": 9,
   "metadata": {},
   "outputs": [
    {
     "name": "stdout",
     "output_type": "stream",
     "text": [
      "hello\n"
     ]
    }
   ],
   "source": [
    "jj()"
   ]
  },
  {
   "cell_type": "code",
   "execution_count": 8,
   "metadata": {},
   "outputs": [
    {
     "name": "stdout",
     "output_type": "stream",
     "text": [
      "hello\n",
      "None\n"
     ]
    }
   ],
   "source": [
    "a = jj()\n",
    "print(a)"
   ]
  },
  {
   "cell_type": "code",
   "execution_count": 4,
   "metadata": {},
   "outputs": [],
   "source": [
    "def jj():\n",
    "    print('hello')\n",
    "    return 100"
   ]
  },
  {
   "cell_type": "code",
   "execution_count": 5,
   "metadata": {},
   "outputs": [
    {
     "name": "stdout",
     "output_type": "stream",
     "text": [
      "hello\n",
      "100\n"
     ]
    }
   ],
   "source": [
    "a = jj( )\n",
    "print(a)"
   ]
  },
  {
   "cell_type": "markdown",
   "metadata": {},
   "source": [
    "# KNN算法\n",
    "# 读取图片，进行对比分析\n",
    "import matplotlib.pyplot as plt \n",
    "\n",
    "res = plt.imread('D:/rabbit.jpg')\n",
    "print(res)"
   ]
  },
  {
   "cell_type": "markdown",
   "metadata": {},
   "source": [
    "## 类型和关键字参数\n",
    "- 普通参数\n",
    "- 多个参数\n",
    "- 默认值参数\n",
    "- 不定长参数"
   ]
  },
  {
   "cell_type": "markdown",
   "metadata": {},
   "source": [
    "## 普通参数"
   ]
  },
  {
   "cell_type": "markdown",
   "metadata": {},
   "source": [
    "## 多个参数"
   ]
  },
  {
   "cell_type": "markdown",
   "metadata": {},
   "source": [
    "## 默认值参数\n",
    "- 默认参数只能放在最后  *之后的必须强制命名传入参数,* 之后的变量必须带参数名"
   ]
  },
  {
   "cell_type": "markdown",
   "metadata": {},
   "source": [
    "# 强制命名\n",
    "- *之后的必须强制命名传入参数,* 之后的变量必须带参数名"
   ]
  },
  {
   "cell_type": "code",
   "execution_count": 2,
   "metadata": {},
   "outputs": [],
   "source": [
    "def tongji(n):\n",
    "    shuzi=0\n",
    "    xiaoxie=0\n",
    "    daxie=0\n",
    "    for i in n:\n",
    "        num = ord(i)\n",
    "        if 48<=num<=57:\n",
    "            shuzi +=1\n",
    "        elif 65<=num<=90:\n",
    "            daxie+=1\n",
    "        elif 97<=num<=122:\n",
    "            xiaoxie+=1\n",
    "    return shuzi,xiaoxie,daxie       "
   ]
  },
  {
   "cell_type": "code",
   "execution_count": 3,
   "metadata": {},
   "outputs": [
    {
     "data": {
      "text/plain": [
       "(1, 3, 2)"
      ]
     },
     "execution_count": 3,
     "metadata": {},
     "output_type": "execute_result"
    }
   ],
   "source": [
    "tongji('wASt4g')"
   ]
  },
  {
   "cell_type": "markdown",
   "metadata": {},
   "source": [
    "## 不定长参数\n",
    "- \\*args, 不定长，输入多少参数都可以，不写入参数也可以\n",
    "> - 可以输入多个参数\n",
    "  - 返回输出结果的类型是元组类型，元组可以迭代，输入多少个参数都可以迭代来取出\n",
    "  - args 名字是可以修改的，只是通常约定为args\n",
    "- \\**kwargs, 不定长第二种\n",
    "> - 可以输入多个参数，但需要带参数名称\n",
    "  - 返回的数据类型是字典\n",
    "  - 输入的一定要是表达式(键值对)\n",
    "- 一般大的项目传入参数时，使用config文件一次写入所有的参数"
   ]
  },
  {
   "cell_type": "markdown",
   "metadata": {},
   "source": [
    "### \\**kwargs, 不定长第二种\n",
    "- 第二种不定长参数传入方法，使用字典数据传入\n",
    "- 写入参数时，必须先写\\*args, 再写\\**kwargs。 这是固定写法"
   ]
  },
  {
   "cell_type": "markdown",
   "metadata": {},
   "source": [
    "## 变量的作用域\n",
    "- 局部变量 local\n",
    "- 全局变量 global\n",
    "- globals 函数返回一个全局变量的字典，包括所有导入的变量\n",
    "- locals() 函数会以字典类型返回当前位置的全部局部变量。"
   ]
  },
  {
   "cell_type": "code",
   "execution_count": 2,
   "metadata": {},
   "outputs": [
    {
     "name": "stdout",
     "output_type": "stream",
     "text": [
      "1100\n"
     ]
    }
   ],
   "source": [
    "a = 1000\n",
    "b = 10\n",
    "def Y():\n",
    "    global a,b\n",
    "    a += 100\n",
    "    print(a)\n",
    "Y()"
   ]
  },
  {
   "cell_type": "code",
   "execution_count": 8,
   "metadata": {},
   "outputs": [
    {
     "name": "stdout",
     "output_type": "stream",
     "text": [
      "1100\n",
      "1100\n"
     ]
    }
   ],
   "source": [
    "def YY(a1):\n",
    "    a1 +=100\n",
    "    print(a)\n",
    "YY(a)\n",
    "print(a)"
   ]
  },
  {
   "cell_type": "markdown",
   "metadata": {},
   "source": [
    "## 注意：\n",
    "- global ：在进行赋值操作的时候需要声明\n",
    "- 官方解释：This is because when you make an assignment to a variable in a scope, that variable becomes local to that scope and shadows any similarly named variable in the outer scope.\n",
    "- ![](../Photo/73.png)"
   ]
  },
  {
   "cell_type": "markdown",
   "metadata": {},
   "source": [
    "## EP：\n",
    "- 定义一个邮箱加密函数，使得输入邮箱后进行ASCII码加密\n",
    "- 定义一个判断其是否为闰年的函数\n",
    "- 函数的嵌套：定义两个函数A，B，B函数接受A函数的数值并判定是否为奇数或者偶数"
   ]
  },
  {
   "cell_type": "markdown",
   "metadata": {},
   "source": [
    "# Homework\n",
    "- 1\n",
    "![](../Photo/74.png)"
   ]
  },
  {
   "cell_type": "code",
   "execution_count": 47,
   "metadata": {},
   "outputs": [
    {
     "name": "stdout",
     "output_type": "stream",
     "text": [
      "1 5 12 22 35 51 70 92 117 145 \n",
      "176 210 247 287 330 376 425 477 532 590 \n",
      "651 715 782 852 925 1001 1080 1162 1247 1335 \n",
      "1426 1520 1617 1717 1820 1926 2035 2147 2262 2380 \n",
      "2501 2625 2752 2882 3015 3151 3290 3432 3577 3725 \n",
      "3876 4030 4187 4347 4510 4676 4845 5017 5192 5370 \n",
      "5551 5735 5922 6112 6305 6501 6700 6902 7107 7315 \n",
      "7526 7740 7957 8177 8400 8626 8855 9087 9322 9560 \n",
      "9801 10045 10292 10542 10795 11051 11310 11572 11837 12105 \n",
      "12376 12650 12927 13207 13490 13776 14065 14357 14652 14950 \n"
     ]
    }
   ],
   "source": [
    "def WJX():\n",
    "    a = 0\n",
    "    for i in range (1,101):\n",
    "        num=int(i*(3*i-1)/2)\n",
    "        print(num , end = ' ')\n",
    "        a += 1\n",
    "        if a%10 == 0:\n",
    "            print()\n",
    "WJX()"
   ]
  },
  {
   "cell_type": "markdown",
   "metadata": {},
   "source": [
    "- 2 \n",
    "![](../Photo/75.png)"
   ]
  },
  {
   "cell_type": "code",
   "execution_count": 12,
   "metadata": {},
   "outputs": [],
   "source": [
    "def sumdigits(n):\n",
    "    j = 0\n",
    "    for i in str(n):\n",
    "        b = int(i)\n",
    "        j += b\n",
    "    return j"
   ]
  },
  {
   "cell_type": "code",
   "execution_count": 13,
   "metadata": {},
   "outputs": [
    {
     "data": {
      "text/plain": [
       "9"
      ]
     },
     "execution_count": 13,
     "metadata": {},
     "output_type": "execute_result"
    }
   ],
   "source": [
    "sumdigits(234)"
   ]
  },
  {
   "cell_type": "markdown",
   "metadata": {},
   "source": [
    "- 3\n",
    "![](../Photo/76.png)"
   ]
  },
  {
   "cell_type": "code",
   "execution_count": 21,
   "metadata": {},
   "outputs": [
    {
     "name": "stdout",
     "output_type": "stream",
     "text": [
      "2.4 3 5\n",
      "12.4 15 31\n"
     ]
    }
   ],
   "source": [
    "def Number(num1,num2,num3):\n",
    "    if num1>num2 and num2>num3:\n",
    "        print(num3,num2,num1)\n",
    "    elif num1>num3 and num3>num2:\n",
    "        print(num2,num3,num1)\n",
    "    elif num1<num2 and num2<num3:\n",
    "        print(num1,num2,num3)\n",
    "    elif num1<num3 and num3<num2:\n",
    "        print(num1,num3,num2)\n",
    "    elif num3<num1 and num1<num2:\n",
    "        print(num3,num1,num2)\n",
    "    else:\n",
    "        print(num2,num1,num3)\n",
    "Number(3,2.4,5)\n",
    "Number(31,12.4,15)"
   ]
  },
  {
   "cell_type": "markdown",
   "metadata": {},
   "source": [
    "# - 4\n",
    "![](../Photo/77.png)"
   ]
  },
  {
   "cell_type": "markdown",
   "metadata": {},
   "source": [
    "- 5\n",
    "![](../Photo/78.png)"
   ]
  },
  {
   "cell_type": "code",
   "execution_count": 25,
   "metadata": {},
   "outputs": [
    {
     "name": "stdout",
     "output_type": "stream",
     "text": [
      ">>：g\n",
      ">>：k\n",
      ">>：7\n",
      "g h i j k "
     ]
    }
   ],
   "source": [
    "def chars(ch1,ch2,num):\n",
    "    num1=ord(ch1)\n",
    "    num2=ord(ch2)\n",
    "    num3=0\n",
    "    for i in range(num1,num2+1):\n",
    "        a = chr(i)\n",
    "        print(a,end=' ')\n",
    "        num3 += 1\n",
    "        if num3 % num == 0:\n",
    "            print( )\n",
    "ch1_=input('>>：')\n",
    "ch2_=input('>>：')\n",
    "num_=eval(input('>>：'))\n",
    "chars(ch1_,ch2_,num_)"
   ]
  },
  {
   "cell_type": "markdown",
   "metadata": {},
   "source": [
    "- 6\n",
    "![](../Photo/79.png)"
   ]
  },
  {
   "cell_type": "code",
   "execution_count": 31,
   "metadata": {},
   "outputs": [
    {
     "name": "stdout",
     "output_type": "stream",
     "text": [
      "2010年有365天\n",
      "2011年有365天\n",
      "2012年有366天\n",
      "2013年有365天\n",
      "2014年有365天\n",
      "2015年有365天\n",
      "2016年有366天\n",
      "2017年有365天\n",
      "2018年有365天\n",
      "2019年有365天\n",
      "2020年有366天\n"
     ]
    }
   ],
   "source": [
    "def days(year):\n",
    "    if year%4==0 and year%100!=0 or year%400==0:\n",
    "        print('%d年有366天'%year)\n",
    "    else:\n",
    "        print('%d年有365天'%year)\n",
    "for i in range(2010,2021):\n",
    "    days(i)"
   ]
  },
  {
   "cell_type": "markdown",
   "metadata": {},
   "source": [
    "- 7\n",
    "![](../Photo/80.png)"
   ]
  },
  {
   "cell_type": "code",
   "execution_count": 46,
   "metadata": {},
   "outputs": [
    {
     "name": "stdout",
     "output_type": "stream",
     "text": [
      "7,8,9,10\n"
     ]
    },
    {
     "data": {
      "text/plain": [
       "1.4142135623730951"
      ]
     },
     "execution_count": 46,
     "metadata": {},
     "output_type": "execute_result"
    }
   ],
   "source": [
    "def distance(x1,x2,y1,y2):\n",
    "    l=((x2-x1)**2+(y2-y1)**2)**(1/2)\n",
    "    return l\n",
    "x1,x2,y1,y2=eval(input())\n",
    "distance(x1,x2,y1,y2)"
   ]
  },
  {
   "cell_type": "markdown",
   "metadata": {},
   "source": [
    "- 8\n",
    "![](../Photo/81.png)"
   ]
  },
  {
   "cell_type": "code",
   "execution_count": 32,
   "metadata": {},
   "outputs": [
    {
     "name": "stdout",
     "output_type": "stream",
     "text": [
      "p\t2^p-1\n",
      "\n",
      "2 \t 3 \n",
      "\n",
      "3 \t 7 \n",
      "\n",
      "5 \t 31 \n",
      "\n",
      "7 \t 127 \n",
      "\n",
      "13 \t 8191 \n",
      "\n",
      "17 \t 131071 \n",
      "\n",
      "19 \t 524287 \n",
      "\n",
      "31 \t 2147483647 \n",
      "\n"
     ]
    }
   ],
   "source": [
    "import math\n",
    "def prime(n):\n",
    "    c=int(n**0.5)+1\n",
    "    for i in range(3,c):\n",
    "          if n%i==0:\n",
    "            return 0\n",
    "    return 1\n",
    "print(\"p\\t2^p-1\\n\")\n",
    "for j in range(2,32):\n",
    "    n=pow(2,j)-1\n",
    "    if prime(n)==1:\n",
    "        print(j,\"\\t\",n,\"\\n\")"
   ]
  },
  {
   "cell_type": "markdown",
   "metadata": {},
   "source": [
    "- 9\n",
    "![](../Photo/82.png)\n",
    "![](../Photo/83.png)"
   ]
  },
  {
   "cell_type": "code",
   "execution_count": 33,
   "metadata": {},
   "outputs": [
    {
     "name": "stdout",
     "output_type": "stream",
     "text": [
      "Current date and time is Sat May 11 23:50:13 2019\n"
     ]
    }
   ],
   "source": [
    "import time\n",
    "x=time.time()\n",
    "time.localtime(x)\n",
    "print(\"Current date and time is\",time.asctime(time.localtime(x)))"
   ]
  },
  {
   "cell_type": "markdown",
   "metadata": {},
   "source": [
    "- 10\n",
    "![](../Photo/84.png)"
   ]
  },
  {
   "cell_type": "code",
   "execution_count": 43,
   "metadata": {},
   "outputs": [
    {
     "name": "stdout",
     "output_type": "stream",
     "text": [
      "进入循环投掷阶段，你需要掷出10才能赢\n",
      "抱歉，点数是 11,请再试一次吧\n",
      "抱歉，点数是 5,请再试一次吧\n",
      "抱歉，点数是 4,请再试一次吧\n",
      "看来你今天运气不太好啊！\n",
      "恭喜!你赢啦，点数是 10\n"
     ]
    }
   ],
   "source": [
    "import random\n",
    "import time\n",
    "def gennum():\n",
    "    random.seed(time.time())\n",
    "    dice={}\n",
    "    dice['1']=random.randrange(6)+1\n",
    "    dice['2']=random.randrange(6)+1\n",
    "    return sum(dice.values())\n",
    "numsum=gennum()\n",
    "if numsum in [7,11]:\n",
    "    print (\"恭喜！你赢啦，点数是 %d，看来你今天运气不错，去买张彩票试试吧！\" % numsum)\n",
    "elif numsum in [2,3,12]: #craps\n",
    "    print (\"抱歉，你输了，点数是 %d，没关系，第一次嘛\" % numsum)\n",
    "else:\n",
    "    print (\"进入循环投掷阶段，你需要掷出%d才能赢\" % numsum)\n",
    "    counter=0\n",
    "    while True:\n",
    "        num=gennum()\n",
    "        if num == 7:\n",
    "            print (\"抱歉!你输了，点数是 %d\" % num)\n",
    "            break\n",
    "        elif num == numsum:\n",
    "            print (\"恭喜!你赢啦，点数是 %d\" % num)\n",
    "            break\n",
    "        else:\n",
    "            print (\"抱歉，点数是 %d,请再试一次吧\" % num)\n",
    "            time.sleep(3)\n",
    "            counter+=1\n",
    "            if counter > 5:\n",
    "                print (\"今天运气不好，选个黄道吉日再来吧！\")\n",
    "                break\n",
    "            elif counter == 3:\n",
    "                print (\"看来你今天运气不太好啊！\")\n",
    "            continue"
   ]
  },
  {
   "cell_type": "markdown",
   "metadata": {},
   "source": [
    "- 11 \n",
    "### 去网上寻找如何用Python代码发送邮件 \n",
    "    - time.sleep(3)  3秒发送一次\n",
    "    - 一旦错误后，重新换一个邮箱"
   ]
  }
 ],
 "metadata": {
  "kernelspec": {
   "display_name": "Python 3",
   "language": "python",
   "name": "python3"
  },
  "language_info": {
   "codemirror_mode": {
    "name": "ipython",
    "version": 3
   },
   "file_extension": ".py",
   "mimetype": "text/x-python",
   "name": "python",
   "nbconvert_exporter": "python",
   "pygments_lexer": "ipython3",
   "version": "3.6.4"
  }
 },
 "nbformat": 4,
 "nbformat_minor": 2
}
